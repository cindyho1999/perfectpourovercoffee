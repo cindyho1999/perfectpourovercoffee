{
 "cells": [
  {
   "cell_type": "markdown",
   "metadata": {},
   "source": [
    "# Cindy Ho 127008544 Saturation Prediction Algorithm"
   ]
  },
  {
   "cell_type": "code",
   "execution_count": 1,
   "metadata": {},
   "outputs": [],
   "source": [
    "import splitfolders #this is a python library that divides a folder into testing, training, and validating data\n",
    "import tensorflow as tf #library for ML\n",
    "from tensorflow import keras #library to import keras\n",
    "from keras.preprocessing.image import ImageDataGenerator #keras library for importting images\n",
    "from keras.models import Sequential #CNN model\n",
    "from keras.layers import Dense, Dropout, Activation, Flatten, Conv2D, MaxPooling2D #CNN different layers needed\n",
    "import numpy as np #for plotting \n",
    "import matplotlib.pyplot as plt #for plotting\n",
    "from sklearn.metrics import classification_report, confusion_matrix #used to view results of CNN model"
   ]
  },
  {
   "cell_type": "markdown",
   "metadata": {},
   "source": [
    "# Divide into Train/Test/Validate Folders"
   ]
  },
  {
   "cell_type": "code",
   "execution_count": 2,
   "metadata": {},
   "outputs": [
    {
     "name": "stderr",
     "output_type": "stream",
     "text": [
      "Copying files: 7179 files [01:15, 95.57 files/s] \n"
     ]
    }
   ],
   "source": [
    "#library call: call folder where it receives inputs, then call folder where it outputs folder where it's all split up\n",
    "#seed 1337 means the amount of time it randomizes, seed means it traces how it randomizes & allows it to be reproducible\n",
    "#ratios - how it divides the data 80% in train, 10% in validate, and last 10% in validation\n",
    "#group_prefix - allows user to group the folders by filename prefix -> not necessary\n",
    "\n",
    "splitfolders.ratio(r'C:\\Users\\cindy\\OneDrive\\Documents\\403\\inputimages\\TD', output=r'C:\\Users\\cindy\\OneDrive\\Documents\\403\\inputimages\\TDoutput2',\n",
    "    seed=1337, ratio=(.8, .1, .1), group_prefix=None)"
   ]
  },
  {
   "cell_type": "markdown",
   "metadata": {},
   "source": [
    "# Load Image Data "
   ]
  },
  {
   "cell_type": "code",
   "execution_count": 3,
   "metadata": {},
   "outputs": [],
   "source": [
    "#ImageDataGenerator implements functions useful for input image scaling and augmentation -- you may want more!\n",
    "#rescales divides the arrays by 255 (rgb values) to scale it down to 0 and 1\n",
    "#purpose is to reduce memory when inputting into CNN\n",
    "\n",
    "train_datagen = ImageDataGenerator(rescale=1./255) #rescales training dataset\n",
    "\n",
    "valid_datagen = ImageDataGenerator(rescale=1./255) #rescales validation dataset\n",
    "\n",
    "test_datagen = ImageDataGenerator(rescale=1./255) #rescales testing dataset\n"
   ]
  },
  {
   "cell_type": "code",
   "execution_count": 4,
   "metadata": {},
   "outputs": [
    {
     "name": "stdout",
     "output_type": "stream",
     "text": [
      "Found 5728 images belonging to 11 classes.\n",
      "Found 713 images belonging to 11 classes.\n",
      "Found 727 images belonging to 11 classes.\n"
     ]
    }
   ],
   "source": [
    "train_generator = train_datagen.flow_from_directory(\n",
    "        r'C:\\Users\\cindy\\OneDrive\\Documents\\403\\inputimages\\TDoutput2\\train', #image path name\n",
    "        target_size=(32, 32), #rescales images from 640 x 480 pixels to 32 x 32 to conserve memory\n",
    "        color_mode='rgb', #image is RGB (red, green blue scale)\n",
    "        batch_size=1, #only 1 batch is inputted to train model\n",
    "        class_mode='categorical', #images are grouped into folders from 0-20 in categories therefore its categorical classes\n",
    "        shuffle=True, #turns on shuffle and shuffles the images\n",
    "        seed=1953) #amount of time it randomizes, seed means it traces how it randomizes & allows it to be reproducible\n",
    "\n",
    "\n",
    "valid_generator = valid_datagen.flow_from_directory(\n",
    "        r'C:\\Users\\cindy\\OneDrive\\Documents\\403\\inputimages\\TDoutput2\\val',\n",
    "        target_size=(32, 32), #rescales images from 640 x 480 pixels to 32 x 32 to conserve memory\n",
    "        color_mode='rgb', #image is RGB (red, green blue scale)\n",
    "        batch_size=1, #only 1 batch is inputted to train model\n",
    "        class_mode='categorical', #images are grouped into folders from 0-20 in categories therefore its categorical classes\n",
    "        shuffle=False, #turns on shuffle and shuffles the images\n",
    "        seed=1953) #amount of time it randomizes, seed means it traces how it randomizes & allows it to be reproducible\n",
    "\n",
    "\n",
    "test_generator = test_datagen.flow_from_directory(\n",
    "    r'C:\\Users\\cindy\\OneDrive\\Documents\\403\\inputimages\\TDoutput2\\test',\n",
    "    target_size=(32, 32),  #rescales images from 640 x 480 pixels to 32 x 32 to conserve memory\n",
    "    color_mode='rgb', #image is RGB (red, green blue scale)\n",
    "    batch_size=1, #only 1 batch is inputted to train model\n",
    "    class_mode='categorical', #images are grouped into folders from 0-20 in categories therefore its categorical classes\n",
    "    shuffle=False, #turns on shuffle and shuffles the images\n",
    "    seed=1953) #amount of time it randomizes, seed means it traces how it randomizes & allows it to be reproducible\n"
   ]
  },
  {
   "cell_type": "markdown",
   "metadata": {},
   "source": [
    "# Build Neural Network Model"
   ]
  },
  {
   "cell_type": "code",
   "execution_count": 9,
   "metadata": {},
   "outputs": [],
   "source": [
    "#building the CNN model\n",
    "model = Sequential()\n",
    "\n",
    "# input layer (1) \n",
    "#filters -> number of filters model will learn = 16 \n",
    "# kernel size = 2-tuple specifying the width and height of the 2D convolution window (3x3)\n",
    "# padding = same to preserve the spatial dimensions of the volume for output volume size to match the input volume size\n",
    "# activiation function used relu -> best loss functions\n",
    "# input shape = number of images, pixel x pixel value, number of layers\n",
    "model.add(Conv2D(filters = 16, kernel_size = (3,3), padding='same', activation='relu', input_shape=(32, 32, 3))) \n",
    "\n",
    "# max pooling filter to reduce the dimensions of the feature maps by 2x2 (2)\n",
    "model.add(MaxPooling2D((2,2)))\n",
    "\n",
    "# conv2D layer (4)\n",
    "model.add(Conv2D(filters = 16, kernel_size = (3,3), padding='same', activation='relu', input_shape=(32, 32, 3))) \n",
    "\n",
    "#max pooling filter to reduce the dimensions of the feature maps by 2x2 (5)\n",
    "model.add(MaxPooling2D((2,2)))\n",
    "\n",
    "# flatten layer - to Flattening a tensor means to remove all of the dimensions except for one (7)\n",
    "model.add(Flatten())  \n",
    "\n",
    "# dense layer feeds all outputs from the previous layer to all its neurons,\n",
    "# each neuron providing one output to the next layer (8)\n",
    "model.add(Dense(16, activation='relu'))\n",
    "\n",
    "# dense layer repeats previous dense layer but outputs it to 32 instead (9)\n",
    "model.add(Dense(32, activation='relu'))\n",
    "\n",
    "# output layer (10)\n",
    "#11 = number of classes it can be sorted to, linear regression model so use linear\n",
    "model.add(Dense(11, activation='softmax')) "
   ]
  },
  {
   "cell_type": "code",
   "execution_count": 10,
   "metadata": {},
   "outputs": [
    {
     "name": "stdout",
     "output_type": "stream",
     "text": [
      "Model: \"sequential_1\"\n",
      "_________________________________________________________________\n",
      " Layer (type)                Output Shape              Param #   \n",
      "=================================================================\n",
      " conv2d_1 (Conv2D)           (None, 32, 32, 16)        448       \n",
      "                                                                 \n",
      " max_pooling2d_1 (MaxPooling  (None, 16, 16, 16)       0         \n",
      " 2D)                                                             \n",
      "                                                                 \n",
      " conv2d_2 (Conv2D)           (None, 16, 16, 16)        2320      \n",
      "                                                                 \n",
      " max_pooling2d_2 (MaxPooling  (None, 8, 8, 16)         0         \n",
      " 2D)                                                             \n",
      "                                                                 \n",
      " flatten_1 (Flatten)         (None, 1024)              0         \n",
      "                                                                 \n",
      " dense_3 (Dense)             (None, 16)                16400     \n",
      "                                                                 \n",
      " dense_4 (Dense)             (None, 32)                544       \n",
      "                                                                 \n",
      " dense_5 (Dense)             (None, 11)                363       \n",
      "                                                                 \n",
      "=================================================================\n",
      "Total params: 20,075\n",
      "Trainable params: 20,075\n",
      "Non-trainable params: 0\n",
      "_________________________________________________________________\n"
     ]
    }
   ],
   "source": [
    "# compiles the model utilizing Adam learning rate of 1e-4 & loss function as mean squared log error\n",
    "# attempted using mean square error, mean abs error, & sparse categorical but best was msle\n",
    "# accuracy was not used since image regression model focuses only on loss functions\n",
    "# model.compile(optimizer=keras.optimizers.Adam(lr=1e-4), loss='msle')  \n",
    "model.compile(optimizer=keras.optimizers.Adam(lr=1e-4), loss='categorical_crossentropy')  \n",
    "\n",
    "#provides summary of layers within the cnn model, # of parameters inputted, & output shape\n",
    "model.summary() "
   ]
  },
  {
   "cell_type": "code",
   "execution_count": 11,
   "metadata": {
    "scrolled": false
   },
   "outputs": [
    {
     "name": "stdout",
     "output_type": "stream",
     "text": [
      "Epoch 1/20\n"
     ]
    },
    {
     "name": "stderr",
     "output_type": "stream",
     "text": [
      "C:\\Users\\cindy\\Anaconda3\\lib\\site-packages\\ipykernel_launcher.py:12: UserWarning: `Model.fit_generator` is deprecated and will be removed in a future version. Please use `Model.fit`, which supports generators.\n",
      "  if sys.path[0] == '':\n"
     ]
    },
    {
     "name": "stdout",
     "output_type": "stream",
     "text": [
      "5728/5728 [==============================] - 66s 11ms/step - loss: 2.3742 - val_loss: 2.3373\n",
      "Epoch 2/20\n",
      "5728/5728 [==============================] - 59s 10ms/step - loss: 2.3005 - val_loss: 2.2626\n",
      "Epoch 3/20\n",
      "5728/5728 [==============================] - 61s 11ms/step - loss: 2.2112 - val_loss: 2.1596\n",
      "Epoch 4/20\n",
      "5728/5728 [==============================] - 60s 10ms/step - loss: 2.0994 - val_loss: 2.0633\n",
      "Epoch 5/20\n",
      "5728/5728 [==============================] - 60s 10ms/step - loss: 1.9876 - val_loss: 1.9512\n",
      "Epoch 6/20\n",
      "5728/5728 [==============================] - 62s 11ms/step - loss: 1.8683 - val_loss: 1.8519\n",
      "Epoch 7/20\n",
      "5728/5728 [==============================] - 59s 10ms/step - loss: 1.7605 - val_loss: 1.7612\n",
      "Epoch 8/20\n",
      "5728/5728 [==============================] - 62s 11ms/step - loss: 1.6517 - val_loss: 1.6325\n",
      "Epoch 9/20\n",
      "5728/5728 [==============================] - 60s 11ms/step - loss: 1.5439 - val_loss: 1.5561\n",
      "Epoch 10/20\n",
      "5728/5728 [==============================] - 65s 11ms/step - loss: 1.4379 - val_loss: 1.4144\n",
      "Epoch 11/20\n",
      "5728/5728 [==============================] - 64s 11ms/step - loss: 1.3383 - val_loss: 1.3625\n",
      "Epoch 12/20\n",
      "5728/5728 [==============================] - 67s 12ms/step - loss: 1.2554 - val_loss: 1.2892\n",
      "Epoch 13/20\n",
      "5728/5728 [==============================] - 86s 15ms/step - loss: 1.1789 - val_loss: 1.2294\n",
      "Epoch 14/20\n",
      "5728/5728 [==============================] - 129s 23ms/step - loss: 1.1064 - val_loss: 1.2223\n",
      "Epoch 15/20\n",
      "5728/5728 [==============================] - 89s 16ms/step - loss: 1.0505 - val_loss: 1.1482\n",
      "Epoch 16/20\n",
      "5728/5728 [==============================] - 69s 12ms/step - loss: 0.9921 - val_loss: 1.0666\n",
      "Epoch 17/20\n",
      "5728/5728 [==============================] - 65s 11ms/step - loss: 0.9447 - val_loss: 1.0719\n",
      "Epoch 18/20\n",
      "5728/5728 [==============================] - 133s 23ms/step - loss: 0.8905 - val_loss: 1.0076\n",
      "Epoch 19/20\n",
      "5728/5728 [==============================] - 142s 25ms/step - loss: 0.8478 - val_loss: 0.9942\n",
      "Epoch 20/20\n",
      "5728/5728 [==============================] - 133s 23ms/step - loss: 0.8096 - val_loss: 0.9506\n"
     ]
    },
    {
     "data": {
      "text/plain": [
       "<keras.callbacks.History at 0x1fd7d5f6198>"
      ]
     },
     "execution_count": 11,
     "metadata": {},
     "output_type": "execute_result"
    }
   ],
   "source": [
    "# this is to train the neural network model\n",
    "# determines steps per epoch for training = the number of batches to be selected for one epoch \n",
    "STEP_SIZE_TRAIN = train_generator.n//train_generator.batch_size \n",
    "\n",
    "# determines steps per epoch for validating = the number of batches to be selected for one epoch \n",
    "STEP_SIZE_VALID = valid_generator.n//valid_generator.batch_size\n",
    "\n",
    "model.fit_generator(generator=train_generator, #takes train generator function from above & has model fit it to training data\n",
    "                    steps_per_epoch=STEP_SIZE_TRAIN, #pulls steps per epoch value above for training\n",
    "                    validation_data=valid_generator, #takes validate generator function from above & has model test val data\n",
    "                    validation_steps=STEP_SIZE_VALID, #pulls steps per epoch value above for validating\n",
    "                    epochs=20 # epochs may be increased but best loss was at 20 epochs\n",
    "         ) \n",
    "#train different epochs & show side by side"
   ]
  },
  {
   "cell_type": "code",
   "execution_count": 8,
   "metadata": {},
   "outputs": [
    {
     "name": "stdout",
     "output_type": "stream",
     "text": [
      "Confusion Matrix\n",
      "[[28 16  0  0  7  0  0  1  2  0  5]\n",
      " [ 1 50  1  0  4  1  2  2  6  1  0]\n",
      " [ 0  0 42  0  0  1  2  1  0  2  6]\n",
      " [ 0  2  0 51  2  6  3  2  3  0  1]\n",
      " [ 1  1  1  0 39  1  6  5  1  1  4]\n",
      " [ 0  2  2  0  1 58  4  1  2  0  3]\n",
      " [ 0  1  1  0  2  3 44  7  0  1  2]\n",
      " [ 0  0  3  4  2  4  4 33  2  7  2]\n",
      " [ 0  1  6  0  0  4  2  3 37  3  6]\n",
      " [ 0  2  3  2  0  2  1  7  1 40  4]\n",
      " [ 0  0  4  0  2  3  1  2  1  1 69]]\n",
      "Classification Report\n",
      "              precision    recall  f1-score   support\n",
      "\n",
      "           0       0.93      0.47      0.63        59\n",
      "           1       0.67      0.74      0.70        68\n",
      "          10       0.67      0.78      0.72        54\n",
      "           2       0.89      0.73      0.80        70\n",
      "           3       0.66      0.65      0.66        60\n",
      "           4       0.70      0.79      0.74        73\n",
      "           5       0.64      0.72      0.68        61\n",
      "           6       0.52      0.54      0.53        61\n",
      "           7       0.67      0.60      0.63        62\n",
      "           8       0.71      0.65      0.68        62\n",
      "           9       0.68      0.83      0.75        83\n",
      "\n",
      "    accuracy                           0.69       713\n",
      "   macro avg       0.70      0.68      0.68       713\n",
      "weighted avg       0.70      0.69      0.69       713\n",
      "\n"
     ]
    }
   ],
   "source": [
    "#this is the model predicting with the test image sets\n",
    "#model predicts with validate data & input number of steps needed per epoch\n",
    "Y_pred = model.predict(valid_generator, steps=STEP_SIZE_VALID)\n",
    "\n",
    "#Returns the indices of the maximum values along an axis to determine number of rows to correspond with number of classes\n",
    "y_pred = np.argmax(Y_pred, axis=1)\n",
    "\n",
    "#generates the confusion matrix to view results of cnn\n",
    "#inputs= Ground truth (correct) target values & y pred = estimated targets as returned by a classifier.\n",
    "print('Confusion Matrix')\n",
    "print(confusion_matrix(valid_generator.classes, y_pred))\n",
    "\n",
    "#generates classification report of precision, recall, f1 score, & support\n",
    "print('Classification Report')\n",
    "#inputs= Ground truth (correct) target values, y pred = estimated targets as returned by a classifier, & class labels\n",
    "print(classification_report(valid_generator.classes, y_pred, target_names=valid_generator.class_indices))"
   ]
  },
  {
   "cell_type": "code",
   "execution_count": 9,
   "metadata": {},
   "outputs": [
    {
     "name": "stdout",
     "output_type": "stream",
     "text": [
      "Confusion Matrix\n",
      "[[29 18  0  0  3  1  2  1  6  0  0]\n",
      " [ 1 50  4  1  6  1  0  1  2  2  1]\n",
      " [ 0  0 35  0  0  3  3  4  3  1  6]\n",
      " [ 0  0  0 58  0  6  0  3  1  2  1]\n",
      " [ 0  0  1  1 42  2  5  6  0  0  4]\n",
      " [ 0  0  4  0  1 59  5  4  1  0  1]\n",
      " [ 0  0  4  1  2  2 47  5  0  0  2]\n",
      " [ 0  0  4  0  2  4  2 37  4  7  3]\n",
      " [ 0  1  3  0  1  2  2  4 41  4  5]\n",
      " [ 0  0  7  0  1  2  0  5  2 44  2]\n",
      " [ 0  2  1  0  0  2  0  0  1  1 77]]\n",
      "Classification Report\n",
      "              precision    recall  f1-score   support\n",
      "\n",
      "           0       0.97      0.48      0.64        60\n",
      "           1       0.70      0.72      0.71        69\n",
      "          10       0.56      0.64      0.59        55\n",
      "           2       0.95      0.82      0.88        71\n",
      "           3       0.72      0.69      0.71        61\n",
      "           4       0.70      0.79      0.74        75\n",
      "           5       0.71      0.75      0.73        63\n",
      "           6       0.53      0.59      0.56        63\n",
      "           7       0.67      0.65      0.66        63\n",
      "           8       0.72      0.70      0.71        63\n",
      "           9       0.75      0.92      0.83        84\n",
      "\n",
      "    accuracy                           0.71       727\n",
      "   macro avg       0.73      0.70      0.71       727\n",
      "weighted avg       0.73      0.71      0.71       727\n",
      "\n"
     ]
    }
   ],
   "source": [
    "#this is the model predicting with the test image sets\n",
    "# determines steps per epoch for testing = the number of batches to be selected for one epoch \n",
    "STEP_SIZE_TEST = test_generator.n//test_generator.batch_size\n",
    "\n",
    "#model predicts with test data & input number of steps needed per epoch\n",
    "Y_pred = model.predict(test_generator, steps=STEP_SIZE_TEST)\n",
    "\n",
    "#Returns the indices of the maximum values along an axis to determine number of rows to correspond with number of classes\n",
    "y_pred = np.argmax(Y_pred, axis=1)\n",
    "\n",
    "#generates the confusion matrix to view results of cnn\n",
    "#inputs= Ground truth (correct) target values & y pred = estimated targets as returned by a classifier.\n",
    "print('Confusion Matrix')\n",
    "print(confusion_matrix(test_generator.classes, y_pred))\n",
    "\n",
    "#generates classification report of precision, recall, f1 score, & support\n",
    "print('Classification Report')\n",
    "#inputs= Ground truth (correct) target values, y pred = estimated targets as returned by a classifier, & class labels\n",
    "print(classification_report(test_generator.classes, y_pred, target_names=train_generator.class_indices))"
   ]
  },
  {
   "cell_type": "markdown",
   "metadata": {},
   "source": [
    "# Demo Example"
   ]
  },
  {
   "cell_type": "code",
   "execution_count": 10,
   "metadata": {},
   "outputs": [
    {
     "name": "stdout",
     "output_type": "stream",
     "text": [
      "Found 1995 images belonging to 11 classes.\n",
      "Confusion Matrix\n",
      "[[ 55   9   6  23  38   1  12   0  14   6   7]\n",
      " [ 15   0   0  19   9  87  15   3   8   8  12]\n",
      " [ 31   7   2  53   8  17  12   2  15  11  18]\n",
      " [ 44  14   2  13  23  47   8   1   4  12   8]\n",
      " [  1   3   4  20  10 106  18   8  17   1   4]\n",
      " [ 11  19   0  42   4  38   0   0  58   0   4]\n",
      " [ 28  18   0  12  28  26  50   2  12   7   1]\n",
      " [ 30  32   2  16  10  58  17   1   9   1  16]\n",
      " [  5   0  25  28   8  27  12  11  42  24   2]\n",
      " [  9   3   1  14  70  30  22   1  22   1  11]\n",
      " [ 19  15  11  29  33  38   2  11   9   1  16]]\n",
      "Classification Report\n",
      "              precision    recall  f1-score   support\n",
      "\n",
      "           0       0.22      0.32      0.26       171\n",
      "           1       0.00      0.00      0.00       176\n",
      "          10       0.04      0.01      0.02       176\n",
      "           2       0.05      0.07      0.06       176\n",
      "           3       0.04      0.05      0.05       192\n",
      "           4       0.08      0.22      0.12       176\n",
      "           5       0.30      0.27      0.28       184\n",
      "           6       0.03      0.01      0.01       192\n",
      "           7       0.20      0.23      0.21       184\n",
      "           8       0.01      0.01      0.01       184\n",
      "           9       0.16      0.09      0.11       184\n",
      "\n",
      "    accuracy                           0.11      1995\n",
      "   macro avg       0.10      0.12      0.10      1995\n",
      "weighted avg       0.10      0.11      0.10      1995\n",
      "\n"
     ]
    }
   ],
   "source": [
    "demo_datagen = ImageDataGenerator(rescale=1./255) #rescales testing dataset\n",
    "\n",
    "demo_generator = demo_datagen.flow_from_directory(\n",
    "    r'C:\\Users\\cindy\\OneDrive\\Documents\\403\\inputimages\\newtestimages\\set2',\n",
    "    target_size=(32, 32),  #rescales images from 640 x 480 pixels to 32 x 32 to conserve memory\n",
    "    color_mode='rgb', #image is RGB (red, green blue scale)\n",
    "    batch_size=1, #only 1 batch is inputted to train model\n",
    "    class_mode='categorical', #images are grouped into folders from 0-20 in categories therefore its categorical classes\n",
    "    shuffle=False, #turns on shuffle and shuffles the images\n",
    "    seed=1953) #amount of time it randomizes, seed means it traces how it randomizes & allows it to be reproducible\n",
    "\n",
    "#this is the model predicting with the test image sets\n",
    "# determines steps per epoch for testing = the number of batches to be selected for one epoch \n",
    "STEP_SIZE_DEMO = demo_generator.n//demo_generator.batch_size\n",
    "\n",
    "#model predicts with test data & input number of steps needed per epoch\n",
    "Y_pred = model.predict(demo_generator, steps=STEP_SIZE_DEMO)\n",
    "\n",
    "#Returns the indices of the maximum values along an axis to determine number of rows to correspond with number of classes\n",
    "y_pred = np.argmax(Y_pred, axis=1)\n",
    "\n",
    "#generates the confusion matrix to view results of cnn\n",
    "#inputs= Ground truth (correct) target values & y pred = estimated targets as returned by a classifier.\n",
    "print('Confusion Matrix')\n",
    "print(confusion_matrix(demo_generator.classes, y_pred))\n",
    "\n",
    "#generates classification report of precision, recall, f1 score, & support\n",
    "print('Classification Report')\n",
    "#inputs= Ground truth (correct) target values, y pred = estimated targets as returned by a classifier, & class labels\n",
    "print(classification_report(demo_generator.classes, y_pred, target_names=train_generator.class_indices))"
   ]
  },
  {
   "cell_type": "code",
   "execution_count": 11,
   "metadata": {},
   "outputs": [],
   "source": [
    "import csv\n",
    "import os\n",
    "import os.path\n",
    "from PIL import Image\n",
    "#opens my csv of labels and reads it into a list of labels\n",
    "with open(r\"C:\\Users\\cindy\\OneDrive\\Documents\\403\\inputimages\\singlelabel.csv\", newline='') as csvfile:\n",
    "    labels = list(csv.reader(csvfile))\n",
    "\n",
    "size = (32,32) #size that I want my image resized to \n",
    "    \n",
    "imgs = [] #list that will hold my images\n",
    "path =  r\"C:\\Users\\cindy\\OneDrive\\Documents\\403\\inputimages\\single\" #path of images folder\n",
    "valid_images = [\".png\"] #extension of images\n",
    "for f in os.listdir(path): #iterate through every image in folder\n",
    "    ext = os.path.splitext(f)[1] #adding to list\n",
    "    if ext.lower() not in valid_images:\n",
    "        continue\n",
    "    imgs.append(np.array(Image.open(os.path.join(path,f)).resize(size,resample=0, box=None))) #opening image & adding path to it then appending it to list\n",
    "\n",
    "for i in range(len(imgs)): #iterates through my images list and scales it by 255 (RGB)\n",
    "    imgs[i] = (imgs[i].astype(float) / 255.0) #need to preprocess data, need to scale pixels to be between 0-1\n",
    "    i=i+1\n",
    "    "
   ]
  },
  {
   "cell_type": "code",
   "execution_count": 12,
   "metadata": {},
   "outputs": [
    {
     "name": "stdout",
     "output_type": "stream",
     "text": [
      "[[0.00169356 0.00590914 0.23452011 0.04973525 0.05594357 0.11450691\n",
      "  0.01946886 0.03298127 0.02917369 0.05005271 0.4060149 ]]\n"
     ]
    },
    {
     "data": {
      "text/plain": [
       "<Figure size 432x288 with 0 Axes>"
      ]
     },
     "execution_count": 12,
     "metadata": {},
     "output_type": "execute_result"
    },
    {
     "data": {
      "image/png": "[encoded data removed]",
      "text/plain": [
       "<Figure size 432x288 with 1 Axes>"
      ]
     },
     "metadata": {
      "needs_background": "light"
     },
     "output_type": "display_data"
    },
    {
     "data": {
      "text/plain": [
       "<Figure size 432x288 with 0 Axes>"
      ]
     },
     "metadata": {},
     "output_type": "display_data"
    }
   ],
   "source": [
    "predictions = model.predict(np.array(imgs)) #prediction on my single image\n",
    "print(predictions) #print array \n",
    "plt.imshow(imgs[0])\n",
    "\n",
    "plt.figure()"
   ]
  },
  {
   "cell_type": "code",
   "execution_count": null,
   "metadata": {},
   "outputs": [],
   "source": []
  }
 ],
 "metadata": {
  "kernelspec": {
   "display_name": "Python 3 (ipykernel)",
   "language": "python",
   "name": "python3"
  },
  "language_info": {
   "codemirror_mode": {
    "name": "ipython",
    "version": 3
   },
   "file_extension": ".py",
   "mimetype": "text/x-python",
   "name": "python",
   "nbconvert_exporter": "python",
   "pygments_lexer": "ipython3",
   "version": "3.7.3"
  }
 },
 "nbformat": 4,
 "nbformat_minor": 4
}
